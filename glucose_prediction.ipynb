{
 "cells": [
  {
   "cell_type": "markdown",
   "metadata": {},
   "source": [
    "# GLUCOSE LEVEL PREDICTOR (Time-Series analysis)"
   ]
  },
  {
   "cell_type": "code",
   "execution_count": 1,
   "metadata": {},
   "outputs": [],
   "source": [
    "import numpy as np \n",
    "import pandas as pd \n",
    "import matplotlib.pyplot as plt"
   ]
  },
  {
   "cell_type": "code",
   "execution_count": 2,
   "metadata": {},
   "outputs": [],
   "source": [
    "dataset_train = pd.read_excel(\"C://Users//yash teotia//Desktop//res_proj//proj.xlsx\")"
   ]
  },
  {
   "cell_type": "code",
   "execution_count": 3,
   "metadata": {},
   "outputs": [
    {
     "data": {
      "text/html": [
       "<div>\n",
       "<style scoped>\n",
       "    .dataframe tbody tr th:only-of-type {\n",
       "        vertical-align: middle;\n",
       "    }\n",
       "\n",
       "    .dataframe tbody tr th {\n",
       "        vertical-align: top;\n",
       "    }\n",
       "\n",
       "    .dataframe thead th {\n",
       "        text-align: right;\n",
       "    }\n",
       "</style>\n",
       "<table border=\"1\" class=\"dataframe\">\n",
       "  <thead>\n",
       "    <tr style=\"text-align: right;\">\n",
       "      <th></th>\n",
       "      <th>ID</th>\n",
       "      <th>Time</th>\n",
       "      <th>Record_Type</th>\n",
       "      <th>Historic_Glucose</th>\n",
       "    </tr>\n",
       "  </thead>\n",
       "  <tbody>\n",
       "    <tr>\n",
       "      <th>0</th>\n",
       "      <td>3285870</td>\n",
       "      <td>2019-06-01 12:59:00</td>\n",
       "      <td>0</td>\n",
       "      <td>214</td>\n",
       "    </tr>\n",
       "    <tr>\n",
       "      <th>1</th>\n",
       "      <td>3285871</td>\n",
       "      <td>2019-06-01 13:14:00</td>\n",
       "      <td>0</td>\n",
       "      <td>210</td>\n",
       "    </tr>\n",
       "    <tr>\n",
       "      <th>2</th>\n",
       "      <td>3285872</td>\n",
       "      <td>2019-06-01 13:29:00</td>\n",
       "      <td>0</td>\n",
       "      <td>199</td>\n",
       "    </tr>\n",
       "    <tr>\n",
       "      <th>3</th>\n",
       "      <td>3285873</td>\n",
       "      <td>2019-06-01 13:44:00</td>\n",
       "      <td>0</td>\n",
       "      <td>174</td>\n",
       "    </tr>\n",
       "    <tr>\n",
       "      <th>4</th>\n",
       "      <td>3285874</td>\n",
       "      <td>2019-06-01 13:59:00</td>\n",
       "      <td>0</td>\n",
       "      <td>160</td>\n",
       "    </tr>\n",
       "  </tbody>\n",
       "</table>\n",
       "</div>"
      ],
      "text/plain": [
       "        ID                Time  Record_Type  Historic_Glucose\n",
       "0  3285870 2019-06-01 12:59:00            0               214\n",
       "1  3285871 2019-06-01 13:14:00            0               210\n",
       "2  3285872 2019-06-01 13:29:00            0               199\n",
       "3  3285873 2019-06-01 13:44:00            0               174\n",
       "4  3285874 2019-06-01 13:59:00            0               160"
      ]
     },
     "execution_count": 3,
     "metadata": {},
     "output_type": "execute_result"
    }
   ],
   "source": [
    "dataset_train.head()"
   ]
  },
  {
   "cell_type": "code",
   "execution_count": 4,
   "metadata": {},
   "outputs": [],
   "source": [
    "trainset = dataset_train.iloc[:,3:4].values"
   ]
  },
  {
   "cell_type": "code",
   "execution_count": 5,
   "metadata": {},
   "outputs": [
    {
     "name": "stderr",
     "output_type": "stream",
     "text": [
      "C:\\Users\\yash teotia\\Anaconda3\\lib\\site-packages\\sklearn\\utils\\validation.py:595: DataConversionWarning: Data with input dtype int64 was converted to float64 by MinMaxScaler.\n",
      "  warnings.warn(msg, DataConversionWarning)\n"
     ]
    }
   ],
   "source": [
    "# USED MIN-MAX SCALER TO SCALE THE VALUES TO THE LEVEL OF 0-1\n",
    "from sklearn.preprocessing import MinMaxScaler\n",
    "sc = MinMaxScaler(feature_range = (0,1))\n",
    "training_scaled = sc.fit_transform(trainset)"
   ]
  },
  {
   "cell_type": "code",
   "execution_count": 6,
   "metadata": {},
   "outputs": [],
   "source": [
    "# CREATING A DATASET  X_TRAIN, Y_TRAIN WHERE WE HAVE LAST 60 VALUES OF X TO 61ST VALUES AS Y WE WILL USE LSTM TO PREDICT NOW\n",
    "x_train = []\n",
    "y_train = []\n",
    "for i in range(60,1198):\n",
    "    x_train.append(training_scaled[i-60:i, 0])\n",
    "    y_train.append(training_scaled[i,0])\n",
    "x_train,y_train = np.array(x_train),np.array(y_train)"
   ]
  },
  {
   "cell_type": "code",
   "execution_count": 7,
   "metadata": {},
   "outputs": [],
   "source": [
    "x_train = np.reshape(x_train, (x_train.shape[0],x_train.shape[1],1))"
   ]
  },
  {
   "cell_type": "code",
   "execution_count": 8,
   "metadata": {},
   "outputs": [
    {
     "name": "stderr",
     "output_type": "stream",
     "text": [
      "Using TensorFlow backend.\n"
     ]
    }
   ],
   "source": [
    "from keras.models import Sequential\n",
    "from keras.layers import Dense\n",
    "from keras.layers import LSTM\n",
    "from keras.layers import Dropout"
   ]
  },
  {
   "cell_type": "code",
   "execution_count": 9,
   "metadata": {
    "scrolled": false
   },
   "outputs": [
    {
     "name": "stdout",
     "output_type": "stream",
     "text": [
      "WARNING:tensorflow:From C:\\Users\\yash teotia\\Anaconda3\\lib\\site-packages\\tensorflow\\python\\framework\\op_def_library.py:263: colocate_with (from tensorflow.python.framework.ops) is deprecated and will be removed in a future version.\n",
      "Instructions for updating:\n",
      "Colocations handled automatically by placer.\n",
      "WARNING:tensorflow:From C:\\Users\\yash teotia\\Anaconda3\\lib\\site-packages\\keras\\backend\\tensorflow_backend.py:3445: calling dropout (from tensorflow.python.ops.nn_ops) with keep_prob is deprecated and will be removed in a future version.\n",
      "Instructions for updating:\n",
      "Please use `rate` instead of `keep_prob`. Rate should be set to `rate = 1 - keep_prob`.\n",
      "WARNING:tensorflow:From C:\\Users\\yash teotia\\Anaconda3\\lib\\site-packages\\tensorflow\\python\\ops\\math_ops.py:3066: to_int32 (from tensorflow.python.ops.math_ops) is deprecated and will be removed in a future version.\n",
      "Instructions for updating:\n",
      "Use tf.cast instead.\n",
      "Epoch 1/100\n",
      "1138/1138 [==============================] - 20s 17ms/step - loss: 0.0444\n",
      "Epoch 2/100\n",
      "1138/1138 [==============================] - 10s 8ms/step - loss: 0.0285\n",
      "Epoch 3/100\n",
      "1138/1138 [==============================] - 8s 7ms/step - loss: 0.0275\n",
      "Epoch 4/100\n",
      "1138/1138 [==============================] - 12s 11ms/step - loss: 0.0218\n",
      "Epoch 5/100\n",
      "1138/1138 [==============================] - 12s 11ms/step - loss: 0.0165\n",
      "Epoch 6/100\n",
      "1138/1138 [==============================] - 11s 10ms/step - loss: 0.0138\n",
      "Epoch 7/100\n",
      "1138/1138 [==============================] - 10s 9ms/step - loss: 0.0125\n",
      "Epoch 8/100\n",
      "1138/1138 [==============================] - 15s 13ms/step - loss: 0.0106\n",
      "Epoch 9/100\n",
      "1138/1138 [==============================] - 12s 11ms/step - loss: 0.0099\n",
      "Epoch 10/100\n",
      "1138/1138 [==============================] - 13s 12ms/step - loss: 0.0088\n",
      "Epoch 11/100\n",
      "1138/1138 [==============================] - 9s 8ms/step - loss: 0.0079\n",
      "Epoch 12/100\n",
      "1138/1138 [==============================] - 8s 7ms/step - loss: 0.0071A: 2s - lo\n",
      "Epoch 13/100\n",
      "1138/1138 [==============================] - 14s 13ms/step - loss: 0.0070\n",
      "Epoch 14/100\n",
      "1138/1138 [==============================] - 17s 15ms/step - loss: 0.0069\n",
      "Epoch 15/100\n",
      "1138/1138 [==============================] - 17s 15ms/step - loss: 0.0061\n",
      "Epoch 16/100\n",
      "1138/1138 [==============================] - 17s 15ms/step - loss: 0.0052\n",
      "Epoch 17/100\n",
      "1138/1138 [==============================] - 16s 14ms/step - loss: 0.0053\n",
      "Epoch 18/100\n",
      "1138/1138 [==============================] - 15s 13ms/step - loss: 0.0045\n",
      "Epoch 19/100\n",
      "1138/1138 [==============================] - 16s 14ms/step - loss: 0.0044\n",
      "Epoch 20/100\n",
      "1138/1138 [==============================] - 17s 15ms/step - loss: 0.0042\n",
      "Epoch 21/100\n",
      "1138/1138 [==============================] - 17s 15ms/step - loss: 0.0042\n",
      "Epoch 22/100\n",
      "1138/1138 [==============================] - 13s 11ms/step - loss: 0.0040\n",
      "Epoch 23/100\n",
      "1138/1138 [==============================] - 10s 9ms/step - loss: 0.0037\n",
      "Epoch 24/100\n",
      "1138/1138 [==============================] - 10s 9ms/step - loss: 0.0036\n",
      "Epoch 25/100\n",
      "1138/1138 [==============================] - 12s 10ms/step - loss: 0.0036\n",
      "Epoch 26/100\n",
      "1138/1138 [==============================] - 11s 10ms/step - loss: 0.0033\n",
      "Epoch 27/100\n",
      "1138/1138 [==============================] - 17s 15ms/step - loss: 0.0032\n",
      "Epoch 28/100\n",
      "1138/1138 [==============================] - 17s 15ms/step - loss: 0.0032\n",
      "Epoch 29/100\n",
      "1138/1138 [==============================] - 17s 15ms/step - loss: 0.0031\n",
      "Epoch 30/100\n",
      "1138/1138 [==============================] - 16s 14ms/step - loss: 0.0031\n",
      "Epoch 31/100\n",
      "1138/1138 [==============================] - 15s 13ms/step - loss: 0.0027\n",
      "Epoch 32/100\n",
      "1138/1138 [==============================] - 12s 11ms/step - loss: 0.0028\n",
      "Epoch 33/100\n",
      "1138/1138 [==============================] - 10s 9ms/step - loss: 0.0031\n",
      "Epoch 34/100\n",
      "1138/1138 [==============================] - 16s 14ms/step - loss: 0.0025\n",
      "Epoch 35/100\n",
      "1138/1138 [==============================] - 16s 14ms/step - loss: 0.0026\n",
      "Epoch 36/100\n",
      "1138/1138 [==============================] - 16s 14ms/step - loss: 0.0026\n",
      "Epoch 37/100\n",
      "1138/1138 [==============================] - 16s 14ms/step - loss: 0.0025\n",
      "Epoch 38/100\n",
      "1138/1138 [==============================] - 17s 15ms/step - loss: 0.0024\n",
      "Epoch 39/100\n",
      "1138/1138 [==============================] - 17s 15ms/step - loss: 0.0024\n",
      "Epoch 40/100\n",
      "1138/1138 [==============================] - 16s 14ms/step - loss: 0.0026\n",
      "Epoch 41/100\n",
      "1138/1138 [==============================] - 13s 11ms/step - loss: 0.0022\n",
      "Epoch 42/100\n",
      "1138/1138 [==============================] - 14s 13ms/step - loss: 0.0024\n",
      "Epoch 43/100\n",
      "1138/1138 [==============================] - 13s 12ms/step - loss: 0.0021\n",
      "Epoch 44/100\n",
      "1138/1138 [==============================] - 16s 14ms/step - loss: 0.0023\n",
      "Epoch 45/100\n",
      "1138/1138 [==============================] - 14s 13ms/step - loss: 0.0022\n",
      "Epoch 46/100\n",
      "1138/1138 [==============================] - 16s 14ms/step - loss: 0.0024\n",
      "Epoch 47/100\n",
      "1138/1138 [==============================] - 16s 14ms/step - loss: 0.0021\n",
      "Epoch 48/100\n",
      "1138/1138 [==============================] - 12s 11ms/step - loss: 0.0020\n",
      "Epoch 49/100\n",
      "1138/1138 [==============================] - 16s 14ms/step - loss: 0.0019\n",
      "Epoch 50/100\n",
      "1138/1138 [==============================] - 15s 13ms/step - loss: 0.0017\n",
      "Epoch 51/100\n",
      "1138/1138 [==============================] - 12s 10ms/step - loss: 0.0020\n",
      "Epoch 52/100\n",
      "1138/1138 [==============================] - 14s 13ms/step - loss: 0.0017\n",
      "Epoch 53/100\n",
      "1138/1138 [==============================] - 15s 13ms/step - loss: 0.0018\n",
      "Epoch 54/100\n",
      "1138/1138 [==============================] - 15s 13ms/step - loss: 0.0018\n",
      "Epoch 55/100\n",
      "1138/1138 [==============================] - 17s 15ms/step - loss: 0.0018\n",
      "Epoch 56/100\n",
      "1138/1138 [==============================] - 13s 11ms/step - loss: 0.0019\n",
      "Epoch 57/100\n",
      "1138/1138 [==============================] - 12s 10ms/step - loss: 0.0020\n",
      "Epoch 58/100\n",
      "1138/1138 [==============================] - 12s 10ms/step - loss: 0.0017\n",
      "Epoch 59/100\n",
      "1138/1138 [==============================] - 11s 9ms/step - loss: 0.0017\n",
      "Epoch 60/100\n",
      "1138/1138 [==============================] - 11s 10ms/step - loss: 0.0016\n",
      "Epoch 61/100\n",
      "1138/1138 [==============================] - 9s 8ms/step - loss: 0.0017\n",
      "Epoch 62/100\n",
      "1138/1138 [==============================] - 10s 9ms/step - loss: 0.0016\n",
      "Epoch 63/100\n",
      "1138/1138 [==============================] - 12s 10ms/step - loss: 0.0017\n",
      "Epoch 64/100\n",
      "1138/1138 [==============================] - 12s 11ms/step - loss: 0.0016\n",
      "Epoch 65/100\n",
      "1138/1138 [==============================] - 16s 14ms/step - loss: 0.0015\n",
      "Epoch 66/100\n",
      "1138/1138 [==============================] - 16s 14ms/step - loss: 0.0016\n",
      "Epoch 67/100\n",
      "1138/1138 [==============================] - 15s 14ms/step - loss: 0.0014\n",
      "Epoch 68/100\n",
      "1138/1138 [==============================] - 17s 15ms/step - loss: 0.0015\n",
      "Epoch 69/100\n",
      "1138/1138 [==============================] - 17s 15ms/step - loss: 0.0014\n",
      "Epoch 70/100\n",
      "1138/1138 [==============================] - 17s 15ms/step - loss: 0.0015\n",
      "Epoch 71/100\n",
      "1138/1138 [==============================] - 16s 14ms/step - loss: 0.0015\n",
      "Epoch 72/100\n",
      "1138/1138 [==============================] - 12s 11ms/step - loss: 0.0014\n",
      "Epoch 73/100\n",
      "1138/1138 [==============================] - 12s 11ms/step - loss: 0.0014\n",
      "Epoch 74/100\n",
      "1138/1138 [==============================] - 14s 12ms/step - loss: 0.0013\n",
      "Epoch 75/100\n",
      "1138/1138 [==============================] - 17s 15ms/step - loss: 0.0014\n",
      "Epoch 76/100\n",
      "1138/1138 [==============================] - 17s 15ms/step - loss: 0.0014\n",
      "Epoch 77/100\n",
      "1138/1138 [==============================] - 16s 14ms/step - loss: 0.0014\n",
      "Epoch 78/100\n",
      "1138/1138 [==============================] - 17s 15ms/step - loss: 0.0015\n",
      "Epoch 79/100\n",
      "1138/1138 [==============================] - 16s 14ms/step - loss: 0.0014\n",
      "Epoch 80/100\n",
      "1138/1138 [==============================] - 16s 14ms/step - loss: 0.0015\n",
      "Epoch 81/100\n",
      "1138/1138 [==============================] - 16s 14ms/step - loss: 0.0014\n",
      "Epoch 82/100\n",
      "1138/1138 [==============================] - 17s 15ms/step - loss: 0.0014\n",
      "Epoch 83/100\n",
      "1138/1138 [==============================] - 16s 14ms/step - loss: 0.0013\n",
      "Epoch 84/100\n",
      "1138/1138 [==============================] - 16s 14ms/step - loss: 0.0015\n",
      "Epoch 85/100\n",
      "1138/1138 [==============================] - 16s 14ms/step - loss: 0.0014\n",
      "Epoch 86/100\n",
      "1138/1138 [==============================] - 16s 14ms/step - loss: 0.0015\n",
      "Epoch 87/100\n",
      "1138/1138 [==============================] - 16s 14ms/step - loss: 0.0013\n",
      "Epoch 88/100\n",
      "1138/1138 [==============================] - 16s 14ms/step - loss: 0.0011\n",
      "Epoch 89/100\n",
      "1138/1138 [==============================] - 16s 14ms/step - loss: 0.0014\n",
      "Epoch 90/100\n",
      "1138/1138 [==============================] - 16s 14ms/step - loss: 0.0012\n",
      "Epoch 91/100\n",
      "1138/1138 [==============================] - 16s 14ms/step - loss: 0.0012\n",
      "Epoch 92/100\n",
      "1138/1138 [==============================] - 16s 14ms/step - loss: 0.0013\n",
      "Epoch 93/100\n",
      "1138/1138 [==============================] - 16s 14ms/step - loss: 0.0013\n",
      "Epoch 94/100\n",
      "1138/1138 [==============================] - 15s 13ms/step - loss: 0.0012\n",
      "Epoch 95/100\n",
      "1138/1138 [==============================] - 12s 10ms/step - loss: 0.0013\n",
      "Epoch 96/100\n",
      "1138/1138 [==============================] - 16s 14ms/step - loss: 0.0013\n",
      "Epoch 97/100\n",
      "1138/1138 [==============================] - 16s 14ms/step - loss: 0.0013\n",
      "Epoch 98/100\n",
      "1138/1138 [==============================] - 16s 14ms/step - loss: 0.0012\n",
      "Epoch 99/100\n",
      "1138/1138 [==============================] - 10s 9ms/step - loss: 0.0012\n",
      "Epoch 100/100\n",
      "1138/1138 [==============================] - 15s 13ms/step - loss: 0.0012\n"
     ]
    },
    {
     "data": {
      "text/plain": [
       "<keras.callbacks.History at 0x27c8f7b4ef0>"
      ]
     },
     "execution_count": 9,
     "metadata": {},
     "output_type": "execute_result"
    }
   ],
   "source": [
    "regressor = Sequential()\n",
    "regressor.add(LSTM(units = 50,return_sequences = True,input_shape = (x_train.shape[1],1)))\n",
    "regressor.add(Dropout(0.2))\n",
    "regressor.add(LSTM(units = 50,return_sequences = True))\n",
    "regressor.add(Dropout(0.2))\n",
    "regressor.add(LSTM(units = 50,return_sequences = True))\n",
    "regressor.add(Dropout(0.2))\n",
    "regressor.add(LSTM(units = 50))\n",
    "regressor.add(Dropout(0.2))\n",
    "regressor.add(Dense(units = 1))\n",
    "regressor.compile(optimizer = 'adam',loss = 'mean_squared_error')\n",
    "regressor.fit(x_train,y_train,epochs = 100, batch_size = 32)"
   ]
  },
  {
   "cell_type": "code",
   "execution_count": 10,
   "metadata": {},
   "outputs": [],
   "source": [
    "dataset_test =pd.read_excel(\"C://Users//yash teotia//Desktop//res_proj//res_pro_test.xlsx\")"
   ]
  },
  {
   "cell_type": "code",
   "execution_count": 11,
   "metadata": {},
   "outputs": [],
   "source": [
    "real_stock_price = dataset_test.iloc[:,3:4].values\n",
    "dataset_total = pd.concat((dataset_train['Historic_Glucose'],dataset_test['Historic_Glucose']),axis = 0)\n",
    "inputs = dataset_total[len(dataset_total) - len(dataset_test)-60:].values"
   ]
  },
  {
   "cell_type": "code",
   "execution_count": 12,
   "metadata": {},
   "outputs": [
    {
     "data": {
      "text/plain": [
       "(196, 1)"
      ]
     },
     "execution_count": 12,
     "metadata": {},
     "output_type": "execute_result"
    }
   ],
   "source": [
    "inputs = inputs.reshape(-1,1)\n",
    "inputs = sc.transform(inputs)\n",
    "inputs.shape"
   ]
  },
  {
   "cell_type": "code",
   "execution_count": 13,
   "metadata": {},
   "outputs": [],
   "source": [
    "x_test = []\n",
    "for i in range(60,196):\n",
    "    x_test.append(inputs[i-60:i,0])"
   ]
  },
  {
   "cell_type": "code",
   "execution_count": 14,
   "metadata": {},
   "outputs": [
    {
     "data": {
      "text/plain": [
       "(136, 60, 1)"
      ]
     },
     "execution_count": 14,
     "metadata": {},
     "output_type": "execute_result"
    }
   ],
   "source": [
    "x_test = np.array(x_test)\n",
    "x_test.shape\n",
    "x_test = np.reshape(x_test, (x_test.shape[0],x_test.shape[1],1))\n",
    "x_test.shape"
   ]
  },
  {
   "cell_type": "code",
   "execution_count": 15,
   "metadata": {},
   "outputs": [],
   "source": [
    "predicted_price = regressor.predict(x_test)\n",
    "predicted_price = sc.inverse_transform(predicted_price)"
   ]
  },
  {
   "cell_type": "code",
   "execution_count": 16,
   "metadata": {},
   "outputs": [
    {
     "data": {
      "image/png": "[encoded data removed]",
      "text/plain": [
       "<Figure size 432x288 with 1 Axes>"
      ]
     },
     "metadata": {
      "needs_background": "light"
     },
     "output_type": "display_data"
    }
   ],
   "source": [
    "plt.plot(real_stock_price,color = 'red', label = 'Real glucose level')\n",
    "plt.plot(predicted_price, color = 'blue', label = 'Predicted glucose level')\n",
    "plt.title('Glucose level  Prediction')\n",
    "plt.xlabel('data-point')\n",
    "plt.ylabel('glucose_level')\n",
    "plt.legend()\n",
    "plt.show()    "
   ]
  },
  {
   "cell_type": "code",
   "execution_count": null,
   "metadata": {},
   "outputs": [],
   "source": []
  }
 ],
 "metadata": {
  "kernelspec": {
   "display_name": "Python 3",
   "language": "python",
   "name": "python3"
  },
  "language_info": {
   "codemirror_mode": {
    "name": "ipython",
    "version": 3
   },
   "file_extension": ".py",
   "mimetype": "text/x-python",
   "name": "python",
   "nbconvert_exporter": "python",
   "pygments_lexer": "ipython3",
   "version": "3.7.3"
  },
  "varInspector": {
   "cols": {
    "lenName": 16,
    "lenType": 16,
    "lenVar": 40
   },
   "kernels_config": {
    "python": {
     "delete_cmd_postfix": "",
     "delete_cmd_prefix": "del ",
     "library": "var_list.py",
     "varRefreshCmd": "print(var_dic_list())"
    },
    "r": {
     "delete_cmd_postfix": ") ",
     "delete_cmd_prefix": "rm(",
     "library": "var_list.r",
     "varRefreshCmd": "cat(var_dic_list()) "
    }
   },
   "types_to_exclude": [
    "module",
    "function",
    "builtin_function_or_method",
    "instance",
    "_Feature"
   ],
   "window_display": false
  }
 },
 "nbformat": 4,
 "nbformat_minor": 2
}
